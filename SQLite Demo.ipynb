{
 "cells": [
  {
   "cell_type": "code",
   "execution_count": 2,
   "metadata": {},
   "outputs": [],
   "source": [
    "import sqlite3\n",
    "conn = sqlite3.connect(\"customers.db\")\n",
    "cursor = conn.cursor()"
   ]
  },
  {
   "cell_type": "markdown",
   "metadata": {},
   "source": [
    "<img src=\"db1.png\">"
   ]
  },
  {
   "cell_type": "code",
   "execution_count": 5,
   "metadata": {},
   "outputs": [
    {
     "data": {
      "text/plain": [
       "<sqlite3.Cursor at 0x10df17e30>"
      ]
     },
     "execution_count": 5,
     "metadata": {},
     "output_type": "execute_result"
    }
   ],
   "source": [
    "cursor.execute(\"\"\"\n",
    "CREATE TABLE customerInfo (\n",
    "customerId INTEGER PRIMARY KEY,\n",
    "name TEXT,\n",
    "cName TEXT,\n",
    "Address TEXT,\n",
    "cit TEXT,\n",
    "pCode INTEGER,\n",
    "Country TEXT\n",
    ")\"\"\")"
   ]
  },
  {
   "cell_type": "markdown",
   "metadata": {},
   "source": [
    "## Insert Data into DB"
   ]
  },
  {
   "cell_type": "code",
   "execution_count": 16,
   "metadata": {},
   "outputs": [],
   "source": [
    "cursor.execute(\"INSERT INTO customerInfo VALUES (20, 'Ishaan', 'Grace', 'Forbes Ave', 'Pitt',15337,'USA')\")\n",
    "cursor.execute(\"INSERT INTO customerInfo VALUES (21, 'Ishaan1', 'Ishaan', 'Centre Ave', 'Pitt',15347,'India')\")\n",
    "cursor.execute(\"INSERT INTO customerInfo VALUES (23, 'Ishaan2', 'K', 'Beelefonte ', 'Pitt',15335,'USA')\")\n",
    "cursor.execute(\"INSERT INTO customerInfo VALUES (24, 'CoolPerson', 'A', 'Beeler Street', 'Pitt',15336,'India')\")\n",
    "conn.commit()"
   ]
  },
  {
   "cell_type": "markdown",
   "metadata": {},
   "source": [
    "## Read From DB"
   ]
  },
  {
   "cell_type": "code",
   "execution_count": 17,
   "metadata": {},
   "outputs": [
    {
     "name": "stdout",
     "output_type": "stream",
     "text": [
      "<sqlite3.Cursor object at 0x10df17e30>\n",
      "[(1, 'Ishaan', 'Grace', 'Forbes Ave', 'Pitt', 15317, 'USA'), (10, 'Ishaan', 'Grace', 'Forbes Ave', 'Pitt', 15317, 'USA'), (11, 'Ishaan1', 'Ishaan', 'Centre Ave', 'Pitt', 15317, 'USA'), (13, 'Ishaan2', 'K', 'Beelefonte ', 'Pitt', 15317, 'USA'), (14, 'CoolPerson', 'A', 'Beeler Street', 'Pitt', 15217, 'USA'), (20, 'Ishaan', 'Grace', 'Forbes Ave', 'Pitt', 15337, 'USA'), (21, 'Ishaan1', 'Ishaan', 'Centre Ave', 'Pitt', 15347, 'India'), (23, 'Ishaan2', 'K', 'Beelefonte ', 'Pitt', 15335, 'USA'), (24, 'CoolPerson', 'A', 'Beeler Street', 'Pitt', 15336, 'India')]\n"
     ]
    }
   ],
   "source": [
    "data = cursor.execute('SELECT * FROM customerInfo')\n",
    "print(data)\n",
    "data = [x for x in data]\n",
    "print(data)"
   ]
  },
  {
   "cell_type": "markdown",
   "metadata": {},
   "source": [
    "## Update DB"
   ]
  },
  {
   "cell_type": "code",
   "execution_count": 50,
   "metadata": {},
   "outputs": [
    {
     "name": "stdout",
     "output_type": "stream",
     "text": [
      "Data before commiting\n",
      "(1, 'Ishaan', 'Grace', 'Forbes Ave', 'Pitt', 15317, 'USA')\n",
      "(10, 'Ishaan', 'Grace', 'Forbes Ave', 'Pitt', 15317, 'USA')\n",
      "(11, 'Ishaan1', 'Ishaan', 'Centre Ave', 'Pitt', 15317, 'USA')\n",
      "(13, 'Ishaan2', 'K', 'Beelefonte ', 'Pitt', 15317, 'USA')\n",
      "(14, 'CoolPerson', 'A', 'Beeler Street', 'Pitt', 321, 'USA')\n",
      "(20, 'Ishaan', 'Grace', 'Forbes Ave', 'Pitt', 15337, 'USA')\n",
      "(21, 'Ishaan1', 'Ishaan', 'Centre Ave', 'Pitt', 15347, 'India')\n",
      "(23, 'Ishaan2', 'K', 'Beelefonte ', 'Pitt', 15335, 'USA')\n",
      "(24, 'CoolPerson', 'A', 'Beeler Street', 'Pitt', 15336, 'India')\n"
     ]
    }
   ],
   "source": [
    "cursor.execute(\"UPDATE customerInfo SET pCode = 321 WHERE customerId = 14\")\n",
    "conn.commit()\n",
    "data = cursor.execute('SELECT * FROM customerInfo')\n",
    "print(\"Data before commiting\")\n",
    "for row in data:\n",
    "    print(row)\n",
    "\n"
   ]
  },
  {
   "cell_type": "markdown",
   "metadata": {},
   "source": [
    "## SQL WHERE Clause\n",
    "\n",
    "The WHERE clause is used to filter records.\n",
    "The WHERE clause is used to extract only those records that fulfill a specified condition."
   ]
  },
  {
   "cell_type": "markdown",
   "metadata": {},
   "source": [
    "SELECT * FROM {TableName}\n",
    "WHERE Country='India'\n",
    "\n",
    "\n",
    "SELECT * FROM {TableName}\n",
    "WHERE pCode BETWEEN 15330 AND 15335;"
   ]
  },
  {
   "cell_type": "code",
   "execution_count": 20,
   "metadata": {},
   "outputs": [
    {
     "name": "stdout",
     "output_type": "stream",
     "text": [
      "(21, 'Ishaan1', 'Ishaan', 'Centre Ave', 'Pitt', 15347, 'India')\n",
      "(24, 'CoolPerson', 'A', 'Beeler Street', 'Pitt', 15336, 'India')\n"
     ]
    }
   ],
   "source": [
    "indiaCustomer = cursor.execute('SELECT * FROM customerInfo WHERE Country=\"India\"')\n",
    "for row in indiaCustomer:\n",
    "    print(row)"
   ]
  },
  {
   "cell_type": "code",
   "execution_count": 23,
   "metadata": {},
   "outputs": [
    {
     "name": "stdout",
     "output_type": "stream",
     "text": [
      "(1, 'Ishaan', 'Grace', 'Forbes Ave', 'Pitt', 15317, 'USA')\n",
      "(10, 'Ishaan', 'Grace', 'Forbes Ave', 'Pitt', 15317, 'USA')\n",
      "(11, 'Ishaan1', 'Ishaan', 'Centre Ave', 'Pitt', 15317, 'USA')\n",
      "(13, 'Ishaan2', 'K', 'Beelefonte ', 'Pitt', 15317, 'USA')\n",
      "(14, 'CoolPerson', 'A', 'Beeler Street', 'Pitt', 15217, 'USA')\n"
     ]
    }
   ],
   "source": [
    "pCode = cursor.execute('SELECT * FROM customerInfo WHERE pCode BETWEEN 15000 AND 15320')\n",
    "for row in pCode:\n",
    "    print(row)"
   ]
  },
  {
   "cell_type": "markdown",
   "metadata": {},
   "source": [
    "## The SQL ORDER BY Keyword"
   ]
  },
  {
   "cell_type": "markdown",
   "metadata": {},
   "source": [
    "SELECT * FROM {TableName}\n",
    "ORDER BY Country"
   ]
  },
  {
   "cell_type": "code",
   "execution_count": 47,
   "metadata": {},
   "outputs": [
    {
     "name": "stdout",
     "output_type": "stream",
     "text": [
      "(14, 'CoolPerson', 'A', 'Beeler Street', 'Pitt', 15217, 'USA')\n",
      "(1, 'Ishaan', 'Grace', 'Forbes Ave', 'Pitt', 15317, 'USA')\n",
      "(10, 'Ishaan', 'Grace', 'Forbes Ave', 'Pitt', 15317, 'USA')\n",
      "(11, 'Ishaan1', 'Ishaan', 'Centre Ave', 'Pitt', 15317, 'USA')\n",
      "(13, 'Ishaan2', 'K', 'Beelefonte ', 'Pitt', 15317, 'USA')\n",
      "(23, 'Ishaan2', 'K', 'Beelefonte ', 'Pitt', 15335, 'USA')\n",
      "(24, 'CoolPerson', 'A', 'Beeler Street', 'Pitt', 15336, 'India')\n",
      "(20, 'Ishaan', 'Grace', 'Forbes Ave', 'Pitt', 15337, 'USA')\n",
      "(21, 'Ishaan1', 'Ishaan', 'Centre Ave', 'Pitt', 15347, 'India')\n"
     ]
    }
   ],
   "source": [
    "pCode = cursor.execute('SELECT * FROM customerInfo ORDER BY pCode')\n",
    "for row in pCode:\n",
    "    print(row)"
   ]
  },
  {
   "cell_type": "code",
   "execution_count": null,
   "metadata": {},
   "outputs": [],
   "source": [
    "pCode = cursor.execute('SELECT * FROM customerInfo ORDER BY Address')\n",
    "for row in pCode:\n",
    "    print(row)"
   ]
  },
  {
   "cell_type": "markdown",
   "metadata": {},
   "source": [
    "## Min and Max Operations"
   ]
  },
  {
   "cell_type": "code",
   "execution_count": 28,
   "metadata": {},
   "outputs": [],
   "source": [
    "minP = cursor.execute(\"SELECT MIN(pCode)FROM customerInfo\")"
   ]
  },
  {
   "cell_type": "code",
   "execution_count": 29,
   "metadata": {},
   "outputs": [
    {
     "name": "stdout",
     "output_type": "stream",
     "text": [
      "(15217,)\n"
     ]
    }
   ],
   "source": [
    "for row in minP:\n",
    "    print(row)"
   ]
  },
  {
   "cell_type": "markdown",
   "metadata": {},
   "source": [
    "## Count, Avg, Sum"
   ]
  },
  {
   "cell_type": "code",
   "execution_count": 42,
   "metadata": {},
   "outputs": [
    {
     "name": "stdout",
     "output_type": "stream",
     "text": [
      "(9,)\n"
     ]
    }
   ],
   "source": [
    "count = cursor.execute(\"SELECT COUNT(customerId)FROM customerInfo\")\n",
    "for row in count:\n",
    "    print(row)"
   ]
  },
  {
   "cell_type": "code",
   "execution_count": 40,
   "metadata": {},
   "outputs": [
    {
     "name": "stdout",
     "output_type": "stream",
     "text": [
      "(15315.555555555555,)\n"
     ]
    }
   ],
   "source": [
    "avg = cursor.execute(\"SELECT AVG(pCode)FROM customerInfo\")\n",
    "for row in avg:\n",
    "    print(row)"
   ]
  },
  {
   "cell_type": "code",
   "execution_count": 41,
   "metadata": {},
   "outputs": [
    {
     "name": "stdout",
     "output_type": "stream",
     "text": [
      "(137840,)\n"
     ]
    }
   ],
   "source": [
    "sum1 = cursor.execute(\"SELECT SUM(pCode)FROM customerInfo\")\n",
    "for row in sum1:\n",
    "    print(row)"
   ]
  },
  {
   "cell_type": "markdown",
   "metadata": {},
   "source": [
    "## Like Operator"
   ]
  },
  {
   "cell_type": "markdown",
   "metadata": {},
   "source": [
    "WHERE name LIKE 'a%'\tFinds any values that start with \"a\""
   ]
  },
  {
   "cell_type": "markdown",
   "metadata": {},
   "source": [
    "WHERE name LIKE '%a'\tFinds any values that end with \"a\""
   ]
  },
  {
   "cell_type": "code",
   "execution_count": 44,
   "metadata": {},
   "outputs": [
    {
     "name": "stdout",
     "output_type": "stream",
     "text": [
      "(1, 'Ishaan', 'Grace', 'Forbes Ave', 'Pitt', 15317, 'USA')\n",
      "(10, 'Ishaan', 'Grace', 'Forbes Ave', 'Pitt', 15317, 'USA')\n",
      "(11, 'Ishaan1', 'Ishaan', 'Centre Ave', 'Pitt', 15317, 'USA')\n",
      "(13, 'Ishaan2', 'K', 'Beelefonte ', 'Pitt', 15317, 'USA')\n",
      "(20, 'Ishaan', 'Grace', 'Forbes Ave', 'Pitt', 15337, 'USA')\n",
      "(21, 'Ishaan1', 'Ishaan', 'Centre Ave', 'Pitt', 15347, 'India')\n",
      "(23, 'Ishaan2', 'K', 'Beelefonte ', 'Pitt', 15335, 'USA')\n"
     ]
    }
   ],
   "source": [
    "sum1 = cursor.execute(\"SELECT * FROM customerInfo WHERE name LIKE 'I%'\")\n",
    "for row in sum1:\n",
    "    print(row)"
   ]
  },
  {
   "cell_type": "code",
   "execution_count": 46,
   "metadata": {},
   "outputs": [
    {
     "name": "stdout",
     "output_type": "stream",
     "text": [
      "(1, 'Ishaan', 'Grace', 'Forbes Ave', 'Pitt', 15317, 'USA')\n",
      "(10, 'Ishaan', 'Grace', 'Forbes Ave', 'Pitt', 15317, 'USA')\n",
      "(14, 'CoolPerson', 'A', 'Beeler Street', 'Pitt', 15217, 'USA')\n",
      "(20, 'Ishaan', 'Grace', 'Forbes Ave', 'Pitt', 15337, 'USA')\n",
      "(24, 'CoolPerson', 'A', 'Beeler Street', 'Pitt', 15336, 'India')\n"
     ]
    }
   ],
   "source": [
    "sum1 = cursor.execute(\"SELECT * FROM customerInfo WHERE name LIKE '%n'\")\n",
    "for row in sum1:\n",
    "    print(row)"
   ]
  }
 ],
 "metadata": {
  "kernelspec": {
   "display_name": "py_36_env",
   "language": "python",
   "name": "py_36_env"
  },
  "language_info": {
   "codemirror_mode": {
    "name": "ipython",
    "version": 3
   },
   "file_extension": ".py",
   "mimetype": "text/x-python",
   "name": "python",
   "nbconvert_exporter": "python",
   "pygments_lexer": "ipython3",
   "version": "3.6.8"
  }
 },
 "nbformat": 4,
 "nbformat_minor": 2
}
