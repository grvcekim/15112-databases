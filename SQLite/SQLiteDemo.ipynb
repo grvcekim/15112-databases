{
 "cells": [
  {
   "cell_type": "markdown",
   "id": "obvious-compromise",
   "metadata": {},
   "source": [
    "# SQLite Demo\n",
    "Grace Kim (haeunk@andrew.cmu.edu)\n",
    "Last updated: Spring 21"
   ]
  },
  {
   "cell_type": "markdown",
   "id": "prepared-salad",
   "metadata": {},
   "source": [
    "## Establish connection to database"
   ]
  },
  {
   "cell_type": "code",
   "execution_count": null,
   "id": "spare-accent",
   "metadata": {},
   "outputs": [],
   "source": [
    "import sqlite3\n",
    "db = sqlite3.connect(\"hack112.db\")\n",
    "cursor = db.cursor()\n",
    "print(db)"
   ]
  },
  {
   "cell_type": "markdown",
   "id": "continent-trinity",
   "metadata": {},
   "source": [
    "## Create table"
   ]
  },
  {
   "cell_type": "code",
   "execution_count": null,
   "id": "derived-appointment",
   "metadata": {},
   "outputs": [],
   "source": [
    "cursor.execute(\"\"\"\n",
    "CREATE TABLE IF NOT EXISTS participants (\n",
    "id INTEGER PRIMARY KEY,\n",
    "name TEXT,\n",
    "major TEXT,\n",
    "year INTEGER,\n",
    "team TEXT\n",
    ")\n",
    "\"\"\")\n",
    "db.commit()"
   ]
  },
  {
   "cell_type": "markdown",
   "id": "difficult-skiing",
   "metadata": {},
   "source": [
    "## Insert data into table"
   ]
  },
  {
   "cell_type": "code",
   "execution_count": null,
   "id": "alpine-mozambique",
   "metadata": {},
   "outputs": [],
   "source": [
    "cursor.execute(\"INSERT INTO participants (name, major, year, team) VALUES ('Grace', 'IS', 2022, 'Team Duck-Sized Horses')\")\n",
    "cursor.execute(\"INSERT INTO participants (name, major, year, team) VALUES ('Sebastian', 'ECE', 2024, 'Team Duck-Sized Horses')\")\n",
    "cursor.execute(\"INSERT INTO participants (name, major, year, team) VALUES ('Steven', 'Business', 2024, 'Team Tepper')\")\n",
    "cursor.execute(\"INSERT INTO participants (name, major, year, team) VALUES ('Henry', 'Stats', 2021, 'Team Tepper')\")\n",
    "db.commit()"
   ]
  },
  {
   "cell_type": "markdown",
   "id": "unlimited-trick",
   "metadata": {},
   "source": [
    "## Read data from table"
   ]
  },
  {
   "cell_type": "code",
   "execution_count": null,
   "id": "synthetic-milan",
   "metadata": {},
   "outputs": [],
   "source": [
    "data = cursor.execute(\"SELECT * FROM participants\")\n",
    "print(data)\n",
    "dataList = [x for x in data]\n",
    "print(dataList)\n",
    "for row in data:\n",
    "    print(row)"
   ]
  },
  {
   "cell_type": "markdown",
   "id": "weekly-freeze",
   "metadata": {},
   "source": [
    "## WHERE clause\n",
    "The WHERE clause is used to filter records. You can use it to extract only those records that fulfill the specified condition. Conditions can be defined using arithmetic operators and BETWEEN, LIKE, and IN."
   ]
  },
  {
   "cell_type": "code",
   "execution_count": null,
   "id": "attached-chester",
   "metadata": {},
   "outputs": [],
   "source": [
    "freshmen = cursor.execute(\"SELECT * FROM participants WHERE year = 2024\")\n",
    "for row in freshmen:\n",
    "    print(row)"
   ]
  },
  {
   "cell_type": "markdown",
   "id": "sporting-punch",
   "metadata": {},
   "source": [
    "## Update data in table\n",
    "LIKE '%a' finds any values that start with \"a\".\n",
    "LIKE 'a%' finds any values that end with \"a\"."
   ]
  },
  {
   "cell_type": "code",
   "execution_count": null,
   "id": "seeing-blackberry",
   "metadata": {},
   "outputs": [],
   "source": [
    "print(\"rows before updating\")\n",
    "data = cursor.execute(\"SELECT * FROM participants\")\n",
    "for row in data:\n",
    "    print(row)\n",
    "    \n",
    "cursor.execute(\"UPDATE participants SET team = 'Team Engineers' WHERE major LIKE 'E%'\")\n",
    "db.commit()\n",
    "print(\"rows after updating\")\n",
    "data = cursor.execute(\"SELECT * FROM participants\")\n",
    "for row in data:\n",
    "    print(row)"
   ]
  },
  {
   "cell_type": "markdown",
   "id": "placed-prompt",
   "metadata": {},
   "source": [
    "## ORDER BY clause"
   ]
  },
  {
   "cell_type": "code",
   "execution_count": null,
   "id": "furnished-judgment",
   "metadata": {},
   "outputs": [],
   "source": [
    "print(\"oldest to youngest\")\n",
    "oldestFirst = cursor.execute(\"SELECT * FROM participants ORDER BY year ASC\")\n",
    "for row in oldestFirst:\n",
    "    print(row)\n",
    "\n",
    "print(\"youngest to oldest\")\n",
    "youngestFirst = cursor.execute(\"SELECT * FROM participants WHERE team = 'Team Tepper' ORDER BY year DESC\")\n",
    "for row in youngestFirst:\n",
    "    print(row)\n",
    "    "
   ]
  },
  {
   "cell_type": "markdown",
   "id": "aquatic-short",
   "metadata": {},
   "source": [
    "## Fun operations: MIN/MAX, COUNT, AVG, SUM"
   ]
  },
  {
   "cell_type": "code",
   "execution_count": null,
   "id": "theoretical-messenger",
   "metadata": {},
   "outputs": [],
   "source": [
    "oldest = cursor.execute(\"SELECT MIN(year) FROM participants\")\n",
    "for row in oldest:\n",
    "    print(row)"
   ]
  },
  {
   "cell_type": "code",
   "execution_count": null,
   "id": "former-report",
   "metadata": {},
   "outputs": [],
   "source": [
    "numParticipants = cursor.execute(\"SELECT COUNT(team) FROM participants\")\n",
    "for row in numParticipants:\n",
    "    print(row)"
   ]
  },
  {
   "cell_type": "code",
   "execution_count": null,
   "id": "altered-experiment",
   "metadata": {},
   "outputs": [],
   "source": [
    "avgGradYear = cursor.execute(\"SELECT AVG(year) FROM participants\")\n",
    "for row in avgGradYear:\n",
    "    print(row)"
   ]
  },
  {
   "cell_type": "code",
   "execution_count": null,
   "id": "silver-floating",
   "metadata": {},
   "outputs": [],
   "source": [
    "sumGradYear = cursor.execute(\"SELECT SUM(year) FROM participants\")\n",
    "for row in sumGradYear:\n",
    "    print(row)"
   ]
  }
 ],
 "metadata": {
  "kernelspec": {
   "display_name": "Python 3",
   "language": "python",
   "name": "python3"
  },
  "language_info": {
   "codemirror_mode": {
    "name": "ipython",
    "version": 3
   },
   "file_extension": ".py",
   "mimetype": "text/x-python",
   "name": "python",
   "nbconvert_exporter": "python",
   "pygments_lexer": "ipython3",
   "version": "3.9.2"
  }
 },
 "nbformat": 4,
 "nbformat_minor": 5
}
